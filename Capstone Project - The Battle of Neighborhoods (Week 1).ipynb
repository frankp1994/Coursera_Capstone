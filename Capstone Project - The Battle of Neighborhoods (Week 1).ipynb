{
 "cells": [
  {
   "cell_type": "markdown",
   "metadata": {},
   "source": [
    "# Capstone Project - The Battle of Neighborhoods (Week 1)"
   ]
  },
  {
   "cell_type": "markdown",
   "metadata": {},
   "source": [
    "## 1. A description of the problem and a discussion of the background. "
   ]
  },
  {
   "cell_type": "markdown",
   "metadata": {},
   "source": [
    "### Introduction of the City - Los Angeles"
   ]
  },
  {
   "cell_type": "markdown",
   "metadata": {},
   "source": [
    "Los Angeles, officially the City of Los Angeles and often known by its initials L.A., is the largest city in California. With an estimated population of nearly four million people, it is the second-most populous city in the United States (after New York City) and the third-most populous city in North America (after Mexico City and New York City). Los Angeles is known for its Mediterranean climate, ethnic diversity, Hollywood entertainment industry, and its sprawling metropolis. Los Angeles lies in a basin in Southern California, adjacent to the Pacific Ocean, with mountains as high as 10,000 feet (3,000 m), and deserts. The city, which covers about 469 square miles (1,210 km2),is the seat of Los Angeles County, the most populous county in the United States. The Los Angeles metropolitan area (MSA) is home to 13.1 million people, making it the second-largest metropolitan area in the nation after New York. Greater Los Angeles includes metro Los Angeles as well as the Inland Empire and Ventura County.It is the second-most populous U.S. combined statistical area, also after New York, with a 2015 estimate of 18.7 million people."
   ]
  },
  {
   "cell_type": "markdown",
   "metadata": {},
   "source": [
    "### Business Problem"
   ]
  },
  {
   "cell_type": "markdown",
   "metadata": {},
   "source": [
    "Coming down to business problem,I would like to open a restaurant near Santa Monica, which is one of the most beautiful cities in Los Angeles. As it is a famous tourist spot,there is already lots of attention towards it.I know there will be many competitors in terms of restauramt. But keeping them in mind, I need to locate my restaurant in place where more people are attracted and comfortable for a stay and a good meal.I want to bring foreign and local peoples attention towards my new hotel.I would like to flavour my retaurant recipe with Chinese and Japanese to grab their taste.\n",
    "The challenge is to find a suitable location for opening a new restaurant attracted to all local and foreign people in the centre of all famous venues."
   ]
  },
  {
   "cell_type": "markdown",
   "metadata": {},
   "source": [
    "### Assumption"
   ]
  },
  {
   "cell_type": "markdown",
   "metadata": {},
   "source": [
    "I assume that 85% local and 15% foreign peoples visit Santa Monica once in a year. Some people stay for couple of days or more. Also they find some place for hangout or a good meal. Their main focus might be belonging to stay somewhere near to reach venues. Apart from these set of people, students and working professionals are common audience here. So we may need to fascinate them all."
   ]
  },
  {
   "cell_type": "markdown",
   "metadata": {},
   "source": [
    "# Data Selection"
   ]
  },
  {
   "cell_type": "markdown",
   "metadata": {},
   "source": [
    "We will be completely working on Foursquare data to explore and try to locate our new restaurant where more venues like church, temples, beach, museums, memorials that are present nearby.\n",
    "\n",
    "We will looking for midpoint area of venues to locate our new restaurant. Before that our major focus will be on all venues present in and around the core place of Santa Monica.\n",
    "\n",
    "Just a heads up on how many restaurant are distributed now around Santa Monica. We will perform some EDA on restaurants present in the tourist spot. On furthur notebook we will use Foursquare data to determine other venues as well."
   ]
  },
  {
   "cell_type": "markdown",
   "metadata": {},
   "source": [
    "# Data Preprocessing"
   ]
  },
  {
   "cell_type": "markdown",
   "metadata": {},
   "source": [
    "### Import Libraries"
   ]
  },
  {
   "cell_type": "code",
   "execution_count": 2,
   "metadata": {},
   "outputs": [
    {
     "name": "stdout",
     "output_type": "stream",
     "text": [
      "Libraries Imported\n"
     ]
    }
   ],
   "source": [
    "# Import libraries\n",
    "import numpy as np # data in a vectorized manner manipulation\n",
    "import pandas as pd # data analsysis\n",
    "import requests # HTTP library\n",
    "from bs4 import BeautifulSoup # scraping library\n",
    "\n",
    "from pandas.io.json import json_normalize # tranform JSON file into a pandas dataframe\n",
    "import json # JSON files manipulation\n",
    "\n",
    "from sklearn.cluster import KMeans # clustering algorithm\n",
    "\n",
    "pd.set_option('display.max_columns', None)\n",
    "pd.set_option('display.max_rows', None)\n",
    "\n",
    "# Matplotlib and associated plotting modules\n",
    "import matplotlib.cm as cm\n",
    "import matplotlib.colors as colors\n",
    "import matplotlib.pyplot as plt\n",
    "\n",
    "#!conda install -c conda-forge geopy --yes \n",
    "from geopy.geocoders import Nominatim\n",
    "\n",
    "#!conda install -c conda-forge folium=0.5.0 --yes\n",
    "import folium # map rendering library\n",
    "\n",
    "print(\"Libraries Imported\")"
   ]
  },
  {
   "cell_type": "markdown",
   "metadata": {},
   "source": [
    "### Credentials and Core location"
   ]
  },
  {
   "cell_type": "code",
   "execution_count": 3,
   "metadata": {},
   "outputs": [
    {
     "name": "stdout",
     "output_type": "stream",
     "text": [
      "Santa Monica location : 34.0250724,-118.4965129\n"
     ]
    }
   ],
   "source": [
    "CLIENT_ID = '3Z3ZIFG1GY2NGYXZ3AVE0DZKPAVVCQJHTENE4IR5OXJNTNPW' \n",
    "CLIENT_SECRET = 'J2WB5IYMG4AJCWMVF0ABC5SR1YRH3JOEQ2HOLBOGJE0TF5DB '\n",
    "VERSION = '20200811'\n",
    "LIMIT = 150\n",
    "\n",
    "address = \"Santa Monica, Los Angeles\"\n",
    "\n",
    "geolocator = Nominatim(user_agent=\"foursquare_agent\")\n",
    "location = geolocator.geocode(address)\n",
    "latitude =location.latitude    \n",
    "longitude =location.longitude  \n",
    "\n",
    "SM='Santa Monica location : {},{}'.format(latitude,longitude)\n",
    "print(SM)"
   ]
  },
  {
   "cell_type": "markdown",
   "metadata": {},
   "source": [
    "### Search Restaurants within 1 km"
   ]
  },
  {
   "cell_type": "code",
   "execution_count": 4,
   "metadata": {},
   "outputs": [],
   "source": [
    "search_query_res = 'restaurant'\n",
    "radius = 1000\n",
    "url_restaurant = 'https://api.foursquare.com/v2/venues/search?client_id={}&client_secret={}&ll={},{}&v={}&query={}&radius={}&limit={}'.format(CLIENT_ID, CLIENT_SECRET, latitude, longitude, VERSION, search_query_res, radius, LIMIT)"
   ]
  },
  {
   "cell_type": "markdown",
   "metadata": {},
   "source": [
    "### Send the Get Request of Restaurants and Examine the Results"
   ]
  },
  {
   "cell_type": "code",
   "execution_count": 6,
   "metadata": {},
   "outputs": [],
   "source": [
    "results_restaurant = requests.get(url_restaurant).json()"
   ]
  },
  {
   "cell_type": "markdown",
   "metadata": {},
   "source": [
    "### Get Relevant Part of JSON and Transform it into a Pandas Dataframe"
   ]
  },
  {
   "cell_type": "code",
   "execution_count": 8,
   "metadata": {},
   "outputs": [
    {
     "name": "stdout",
     "output_type": "stream",
     "text": [
      "There are 16 restaurants at Santa Monica\n"
     ]
    }
   ],
   "source": [
    "# assign relevant part of JSON to venues\n",
    "venues_restaurant = results_restaurant['response']['venues']\n",
    "\n",
    "# tranform venues into a dataframe\n",
    "dataframe = pd.json_normalize(venues_restaurant)\n",
    "\n",
    "print(\"There are {} restaurants at Santa Monica\".format(dataframe.shape[0]))"
   ]
  },
  {
   "cell_type": "markdown",
   "metadata": {},
   "source": [
    "### Define Information of Interest and Filter Dataframe"
   ]
  },
  {
   "cell_type": "code",
   "execution_count": 9,
   "metadata": {},
   "outputs": [
    {
     "data": {
      "text/html": [
       "<div>\n",
       "<style scoped>\n",
       "    .dataframe tbody tr th:only-of-type {\n",
       "        vertical-align: middle;\n",
       "    }\n",
       "\n",
       "    .dataframe tbody tr th {\n",
       "        vertical-align: top;\n",
       "    }\n",
       "\n",
       "    .dataframe thead th {\n",
       "        text-align: right;\n",
       "    }\n",
       "</style>\n",
       "<table border=\"1\" class=\"dataframe\">\n",
       "  <thead>\n",
       "    <tr style=\"text-align: right;\">\n",
       "      <th></th>\n",
       "      <th>name</th>\n",
       "      <th>categories</th>\n",
       "      <th>distance</th>\n",
       "      <th>lat</th>\n",
       "      <th>lng</th>\n",
       "      <th>id</th>\n",
       "    </tr>\n",
       "  </thead>\n",
       "  <tbody>\n",
       "    <tr>\n",
       "      <th>0</th>\n",
       "      <td>The Misfit Restaurant + Bar</td>\n",
       "      <td>American Restaurant</td>\n",
       "      <td>1076</td>\n",
       "      <td>34.015399</td>\n",
       "      <td>-118.496591</td>\n",
       "      <td>4da4bb1d0f578cfaafdbd518</td>\n",
       "    </tr>\n",
       "    <tr>\n",
       "      <th>1</th>\n",
       "      <td>Michael's Restaurant</td>\n",
       "      <td>American Restaurant</td>\n",
       "      <td>766</td>\n",
       "      <td>34.018740</td>\n",
       "      <td>-118.499770</td>\n",
       "      <td>4acfed0ff964a520e6d620e3</td>\n",
       "    </tr>\n",
       "    <tr>\n",
       "      <th>2</th>\n",
       "      <td>Restaurant chino Nan hai</td>\n",
       "      <td>Chinese Restaurant</td>\n",
       "      <td>795</td>\n",
       "      <td>34.019454</td>\n",
       "      <td>-118.491191</td>\n",
       "      <td>503a8c8ee4b0bbf1b03b7e1e</td>\n",
       "    </tr>\n",
       "    <tr>\n",
       "      <th>3</th>\n",
       "      <td>Simple Things Restaurant</td>\n",
       "      <td>American Restaurant</td>\n",
       "      <td>393</td>\n",
       "      <td>34.022205</td>\n",
       "      <td>-118.494011</td>\n",
       "      <td>5635381d498e8f8d6a6e9bf2</td>\n",
       "    </tr>\n",
       "    <tr>\n",
       "      <th>4</th>\n",
       "      <td>Romano's Restaurant</td>\n",
       "      <td>Food</td>\n",
       "      <td>520</td>\n",
       "      <td>34.026932</td>\n",
       "      <td>-118.501684</td>\n",
       "      <td>4f321f6719836c91c7b83bac</td>\n",
       "    </tr>\n",
       "  </tbody>\n",
       "</table>\n",
       "</div>"
      ],
      "text/plain": [
       "                          name           categories  distance        lat  \\\n",
       "0  The Misfit Restaurant + Bar  American Restaurant      1076  34.015399   \n",
       "1         Michael's Restaurant  American Restaurant       766  34.018740   \n",
       "2     Restaurant chino Nan hai   Chinese Restaurant       795  34.019454   \n",
       "3     Simple Things Restaurant  American Restaurant       393  34.022205   \n",
       "4          Romano's Restaurant                 Food       520  34.026932   \n",
       "\n",
       "          lng                        id  \n",
       "0 -118.496591  4da4bb1d0f578cfaafdbd518  \n",
       "1 -118.499770  4acfed0ff964a520e6d620e3  \n",
       "2 -118.491191  503a8c8ee4b0bbf1b03b7e1e  \n",
       "3 -118.494011  5635381d498e8f8d6a6e9bf2  \n",
       "4 -118.501684  4f321f6719836c91c7b83bac  "
      ]
     },
     "execution_count": 9,
     "metadata": {},
     "output_type": "execute_result"
    }
   ],
   "source": [
    "# keep only columns that include venue name, and anything that is associated with location\n",
    "filtered_columns = ['name', 'categories'] + [col for col in dataframe.columns if col.startswith('location.')] + ['id']\n",
    "dataframe_filtered = dataframe.loc[:, filtered_columns]\n",
    "\n",
    "# function that extracts the category of the venue\n",
    "\n",
    "def get_category_type(row):\n",
    "    try:\n",
    "        categories_list = row['categories']\n",
    "    except:\n",
    "        categories_list = row['venue.categories']\n",
    "        \n",
    "    if len(categories_list) == 0:\n",
    "        return None\n",
    "    else:\n",
    "        return categories_list[0]['name']\n",
    "\n",
    "    \n",
    "# filter the category for each row\n",
    "dataframe_filtered['categories'] = dataframe_filtered.apply(get_category_type, axis=1)\n",
    "\n",
    "  \n",
    "# clean column names by keeping only last term\n",
    "dataframe_filtered.columns = [column.split('.')[-1] for column in dataframe_filtered.columns]\n",
    "\n",
    "#dataframe_filtered\n",
    "Restaurants_df=dataframe_filtered[['name','categories','distance','lat','lng','id']]\n",
    "Restaurants_df.head()"
   ]
  },
  {
   "cell_type": "markdown",
   "metadata": {},
   "source": [
    "### Location of Restaurants"
   ]
  },
  {
   "cell_type": "code",
   "execution_count": 11,
   "metadata": {},
   "outputs": [
    {
     "data": {
      "text/html": [
       "<div style=\"width:100%;\"><div style=\"position:relative;width:100%;height:0;padding-bottom:60%;\"><span style=\"color:#565656\">Make this Notebook Trusted to load map: File -> Trust Notebook</span><iframe src=\"about:blank\" style=\"position:absolute;width:100%;height:100%;left:0;top:0;border:none !important;\" data-html=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 onload=\"this.contentDocument.open();this.contentDocument.write(atob(this.getAttribute('data-html')));this.contentDocument.close();\" allowfullscreen webkitallowfullscreen mozallowfullscreen></iframe></div></div>"
      ],
      "text/plain": [
       "<folium.folium.Map at 0x7fa113f4b280>"
      ]
     },
     "execution_count": 11,
     "metadata": {},
     "output_type": "execute_result"
    }
   ],
   "source": [
    "Restaurants_map = folium.Map(location=[latitude, longitude], zoom_start=16) # generate map centred around the Santa Monica\n",
    "\n",
    "# add a red circle marker to represent the core location of Santa Monica\n",
    "folium.CircleMarker(\n",
    "    [latitude, longitude],\n",
    "    radius=10,\n",
    "    color='red',\n",
    "    popup='Santa Monica',\n",
    "    fill = True,\n",
    "    fill_color = 'red',\n",
    "    fill_opacity = 0.6\n",
    ").add_to(Restaurants_map)\n",
    "\n",
    "# add the restaurants as blue circle markers\n",
    "for lat, lng, label in zip(Restaurants_df.lat, Restaurants_df.lng, Restaurants_df.name):\n",
    "    folium.CircleMarker(\n",
    "        [lat, lng],\n",
    "        radius=5,\n",
    "        color='blue',\n",
    "        popup=label,\n",
    "        fill = True,\n",
    "        fill_color='blue',\n",
    "        fill_opacity=0.6\n",
    "    ).add_to(Restaurants_map)\n",
    "\n",
    "# display map\n",
    "Restaurants_map"
   ]
  },
  {
   "cell_type": "markdown",
   "metadata": {},
   "source": [
    "Here are all contents for the Capstone Project - The Battle of Neighborhoods (Week 1), I will cover my code and report in the next Notebook. Thanks!"
   ]
  },
  {
   "cell_type": "code",
   "execution_count": null,
   "metadata": {},
   "outputs": [],
   "source": []
  }
 ],
 "metadata": {
  "kernelspec": {
   "display_name": "Python 3",
   "language": "python",
   "name": "python3"
  },
  "language_info": {
   "codemirror_mode": {
    "name": "ipython",
    "version": 3
   },
   "file_extension": ".py",
   "mimetype": "text/x-python",
   "name": "python",
   "nbconvert_exporter": "python",
   "pygments_lexer": "ipython3",
   "version": "3.8.3"
  }
 },
 "nbformat": 4,
 "nbformat_minor": 4
}
